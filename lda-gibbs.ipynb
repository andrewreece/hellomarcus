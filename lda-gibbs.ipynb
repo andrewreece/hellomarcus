{
 "cells": [
  {
   "cell_type": "markdown",
   "metadata": {},
   "source": [
    "Implementing LDA with Gibbs Sampling<br />\n",
    "ref: <a href='http://www.ncbi.nlm.nih.gov/pmc/articles/PMC387300/'>Griffiths &amp; Steyvers (2004)</a>, also <a href='http://psiexp.ss.uci.edu/research/papers/SteyversGriffithsLSABookFormatted.pdf'>this book chapter</a><br /><br />\n",
    "\n",
    "Latent Dirichlet Allocation (LDA) aims to determine:<br /> \n",
    "<ol>\n",
    "<li>the best distribution of $T$ topics to accurately describe the content of a given document (out of a corpus of $D$ documents)</li>\n",
    "<li>the best distribution of $W$ words to accurately describe each topic</li>\n",
    "</ol>\n",
    "\n",
    "In the general case of topic modeling (not LDA-specific), we want to compute: $$P(w_i)=\\sum_{j=1}^{T}P(w_i|z_i=j)P(z_i=j)$$\n",
    "Where: $z_i$ is a latent variable indicating the topic from which the $i$th word was drawn,\n",
    "$P(w_i|z_i=j)$ is the probability of the word $w_i$ under the $j$th topic,\n",
    "$P(z_i=j)$ gives the probability of choosing a word from topics $j$ in the current document, which will vary across different documents. <br /><br />\n",
    "$P(w|z)$ indicates which words are important to a topic, whereas $P(z)$ is the prevalence of those topics within a document.<br /><br />\n",
    "We assign $P(w|z=j)\\equiv\\phi_w^{(j)}$ and $P(z=j)\\equiv\\theta_j^{(d)}$ for notational convenience. <br /><br />\n",
    "With LDA, we maximize: $$P(w|\\phi,\\alpha)=\\int{P(w|\\phi,\\theta)P(\\theta|\\alpha)d\\theta}, \\theta\\sim{Dirichlet(\\alpha)}$$\n",
    "\n",
    "As per Griffiths &amp; Steyvers, we can also estimate $\\phi$ as $\\phi\\sim{Dirichlet(\\beta)}$.<br /><br /> \n",
    "Our random variables are:\n",
    "$$w_i|z_i,\\phi^{(z_i)}\\sim{Multinomial(\\phi^{(z_i)})}$$\n",
    "$$\\phi\\sim{Dirichlet(\\beta)}$$\n",
    "$$z_i|\\theta^{(d_i)}\\sim{Multinomial(\\theta^{(d_i)})}$$\n",
    "$$\\theta\\sim{Dirichlet(\\alpha)}$$<br />\n",
    "Our fixed hyperparameters are $\\alpha,\\beta$.<br />\n",
    "Suggested values for hyperparameters: $\\alpha =50/T, \\beta = 0.01$ (<a href='http://psiexp.ss.uci.edu/research/papers/SteyversGriffithsLSABookFormatted.pdf'>ref</a>)<br /><br />\n",
    "For LDA, we are interested in the posterior distribution:\n",
    "$$P(z|w)=\\frac{P(w,z)}{\\sum_zP(w,z)}$$\n",
    "There are a couple of challenges we face with this formula.<br />\n",
    "First, how to compute the joint distribution $P(w,z)=P(w|z)P(z)$? <br />\n",
    "Recall that $\\theta$ and $\\phi$ are each only in one of the two expressions in this product. So we can separately integrate out each variable to get what we want.  Integrating out $\\phi$ gives:\n",
    "$$P(w|z)=\\left(\\frac{\\Gamma(W\\beta)}{\\Gamma(\\beta^W)}\\right)^T\\prod_{j=1}^T\\frac{\\prod_w\\Gamma(n_j^{(w)})+\\beta}{\\Gamma(n_j^{(\\cdot)}+W\\beta)}$$\n",
    "where $n_j^{(\\cdot)}$ is the number of times word $w$ has been assigned to topic $j$ in the vector of assignments $z$<br /><br />\n",
    "Integrating out $\\theta$ gives us:\n",
    "$$P(z)=\\left(\\frac{\\Gamma(T\\alpha)}{\\Gamma(\\alpha^T)}\\right)^T\\prod_{d=1}^D\\frac{\\prod_j\\Gamma(n_j^{(d)})+\\alpha}{\\Gamma(n_.^{(d)}+T\\alpha)}$$\n",
    "where $n_j^{(d)}$ is the number of times a word from document $d$ has been assigned to topic $j$. <br /><br />\n",
    "We can use a Gibbs sampler to estimate our target posterior if we have the conditional distribution.  This can be derived by cancelling out terms in the above two expressions, to give:\n",
    "$$P(z_i=j|z_{-i},w)\\propto\\frac{n_{-i,j}^{(w_i)}+\\beta}{n_{-i,j}^{(\\cdot)}+W\\beta}\\frac{n_{-i,j}^{(d_i)}+\\alpha}{n_{-i,\\cdot}^{(d_i)}+T\\alpha}$$\n",
    "where $n_{-i,j}^{(\\cdot)}$ is a count that does not include the current assignment of $z_i$. The first ratio expresses the probability of $w_i$ under topic $j$, and the second ratio expresses the probability of topic $j$ in document $d_i$.\n",
    "<br /><br />\n",
    "After all documents have been iterated over, and all words in all documents have topics assigned, we can make estimates of $\\hat{\\phi_i^{(j)}}$ and $\\hat{\\theta_j^{(d)}}$ via our count matrices:\n",
    "$$\\hat{\\phi_i^{(j)}}=\\frac{Cwt_{ij}^{WT}+\\beta}{\\sum_{k=1}^{W}Cwt_{kj}^{WT}+W\\beta}$$\n",
    "\n",
    "$$\\hat{\\theta_j^{(d)}}=\\frac{Cdt_{dj}^{DT}+\\alpha}{\\sum_{k=1}^{T}Cdt_{dk}^{DT}+T\\alpha}$$\n",
    "\n",
    "We can iterate over this assignment process as many times as we like - we need some kind of objective function to determine how well we're representing the actual data.  We should base this on our target, namely box office gross revenue.  This might look something like using a  linear regression $\\hat{\\mu}=\\beta^{\\top}\\phi(x)+\\epsilon$, with $\\phi(x)$ being the probability vectors of topic-membership across all words in a document. We then compute likelihood of $y=\\text{b.o. gross $$}$ by drawing $\\hat{y}$ from $\\sim\\mathcal{N}(\\hat{\\mu},\\sigma^2)$.\n",
    "<br /><br />\n",
    "One apparent side effect of Gibbs sampling is that we don't need to ever actually draw from a Dirichlet distribution (despite the implication of the name LDA). Everything can be managed via the above formulations and MCMC."
   ]
  },
  {
   "cell_type": "code",
   "execution_count": 1,
   "metadata": {
    "collapsed": true
   },
   "outputs": [],
   "source": [
    "## load modules\n",
    "\n",
    "import re\n",
    "import json\n",
    "import time\n",
    "import requests\n",
    "import pandas as pd\n",
    "import numpy as np\n",
    "from datetime import datetime\n",
    "from bs4 import BeautifulSoup as soup\n",
    "from sklearn.feature_extraction.text import CountVectorizer\n",
    "from itertools import *\n",
    "from scipy.special import gammaln\n",
    "\n",
    "%matplotlib inline\n",
    "import matplotlib.pyplot as plt"
   ]
  },
  {
   "cell_type": "code",
   "execution_count": 2,
   "metadata": {
    "collapsed": false
   },
   "outputs": [
    {
     "name": "stderr",
     "output_type": "stream",
     "text": [
      "/Users/andrew/anaconda/lib/python2.7/site-packages/ipykernel/__main__.py:7: ParserWarning: Falling back to the 'python' engine because the 'c' engine does not support regex separators; you can avoid this warning by specifying engine='python'.\n"
     ]
    }
   ],
   "source": [
    "## load data\n",
    "\n",
    "## get movie titles\n",
    "titles = pd.read_table('lda-data/movietitles/titlesall.csv',header=None,names=[\"title\"])\n",
    "## get movie reviews\n",
    "## csv is actually __-separated (double underscore)\n",
    "data   = pd.read_csv('lda-data/reviews/reviewsall.csv',sep=\"__\",header=None)\n"
   ]
  },
  {
   "cell_type": "code",
   "execution_count": 3,
   "metadata": {
    "collapsed": false
   },
   "outputs": [],
   "source": [
    "## get rid of missing values\n",
    "data.replace(to_replace='^None', value='', inplace=True, regex=True)\n",
    "data.replace(to_replace=np.nan, value='', inplace=True, regex=True)\n",
    "\n",
    "## custom stop words from visual inspection\n",
    "my_stop_words = [' just ',' makes',' comes ',' know ',' quite ',' really ',' going ',' thing ',' screen ',' people ',' does ']\n",
    "data = data.replace(to_replace=my_stop_words, value=['','','','','','','','','','',''],regex=True)\n",
    "\n",
    "## collapsed puts all movie reviews together as one long document per movie (each row in df is one movie)\n",
    "collapsed = np.empty(data.shape[0],dtype=\"object\")\n",
    "for i in xrange(data.shape[0]):\n",
    "    try:\n",
    "        collapsed[i] = data.ix[i,:].sum() # concatenate all reviews for a movie\n",
    "    except:\n",
    "        print 'fail'\n",
    "        print data.ix[i,:]\n",
    "        print data.ix[i,:].sum()\n",
    "        break"
   ]
  },
  {
   "cell_type": "code",
   "execution_count": 4,
   "metadata": {
    "collapsed": false
   },
   "outputs": [],
   "source": [
    "## create bag of words for entire corpus\n",
    "\n",
    "# note params: min_df/max_df set bounds on corpus frequency\n",
    "## WE CAN/SHOULD TUNE THIS VECTORIZATION\n",
    "vectorizer = CountVectorizer(min_df=.01,max_df=0.5, stop_words='english')\n",
    "\n",
    "# call `fit` to build the vocabulary\n",
    "vectorizer.fit(collapsed)\n",
    "# call `transform` to convert text to a bag of words\n",
    "X = vectorizer.transform(collapsed)\n",
    "# CountVectorizer uses a sparse array to save memory, but it's easier to convert back to a \"normal\" numpy array\n",
    "X = X.toarray()"
   ]
  },
  {
   "cell_type": "code",
   "execution_count": 5,
   "metadata": {
    "collapsed": false
   },
   "outputs": [
    {
     "name": "stdout",
     "output_type": "stream",
     "text": [
      "Doc 0\n",
      "Doc 100\n",
      "Doc 200\n",
      "Doc 300\n",
      "Doc 400\n",
      "Doc 500\n",
      "Doc 600\n",
      "Doc 700\n",
      "Doc 800\n",
      "Doc 900\n",
      "Doc 1000\n",
      "Doc 1100\n",
      "Doc 1200\n",
      "Doc 1300\n",
      "Doc 1400\n",
      "Doc 1500\n"
     ]
    }
   ],
   "source": [
    "## store count-vectorized data for each document in a dict\n",
    "documents = {}\n",
    "\n",
    "for d,doc in enumerate(X):\n",
    "    if d%100==0:\n",
    "        print 'Doc '+str(d)    \n",
    "    output = [np.repeat(ix,ct) for ix,ct in enumerate(doc) if ct > 0]\n",
    "    documents[d] = np.fromiter(chain.from_iterable(output), dtype='int')"
   ]
  },
  {
   "cell_type": "code",
   "execution_count": 6,
   "metadata": {
    "collapsed": false
   },
   "outputs": [],
   "source": [
    "## LDA ##\n",
    "\n",
    "## based on Steyvers & Griffiths (2004)\n",
    "## with help from: https://gist.github.com/mblondel/542786\n",
    "##                 https://gist.github.com/ChangUk/a741e0ccf5737954956e\n",
    "\n",
    "# get index of new topic (z)\n",
    "def propose_new_z(p,T):\n",
    "    return np.random.choice(a=xrange(T),p=p)\n",
    "\n",
    "def calc_conditional(Cwt,Cdt,nd,nt,z,d,T,W,w,b,a):\n",
    "        \n",
    "    left  = (Cwt[w,:] + b) / (nt    + W*b)\n",
    "    right = (Cdt[d,:]   + a) / (nd[d] + T*a)\n",
    "    pz = left * right\n",
    "    proba = pz / np.sum(pz)\n",
    "    return proba    \n",
    "\n",
    "def gibbs(N,mat,D,W,T,alpha,beta,doPrint=False):\n",
    "         \n",
    "    Cdt    = np.zeros((D,T)) # MATRIX: docs  x topics\n",
    "    Cwt    = np.zeros((W,T)) # MATRIX: words x topics\n",
    "    nt     = np.zeros(T)     # ARRAY:  topic assignments count\n",
    "    nd     = np.zeros(D)     # ARRAY:  doc assignments count\n",
    "    topics = {}              # DICT:   topic labels, organized by tuple: (doc,word_token_i)\n",
    "          \n",
    "    ## random initialization\n",
    "    for d in xrange(D):\n",
    "        for i,w in enumerate(mat[d]):      \n",
    "            z             = np.random.randint(T) # randomly choose topic\n",
    "            Cdt[d,z]     += 1\n",
    "            nd[d]        += 1\n",
    "            Cwt[w,z]     += 1\n",
    "            nt[z]        += 1\n",
    "            topics[(d,i)] = z  \n",
    "\n",
    "    liks=[]\n",
    "    for n in xrange(N):\n",
    "        for d in xrange(D):\n",
    "            if doPrint and (d%100==0):\n",
    "                print 'sampling document: '+str(d)\n",
    "         \n",
    "            for i,w in enumerate(mat[d]):\n",
    "                \n",
    "                z = topics[(d,i)]\n",
    "                Cdt[d,z] -= 1\n",
    "                nd[d]    -= 1\n",
    "                Cwt[w,z] -= 1\n",
    "                nt[z]    -= 1\n",
    "\n",
    "                pz = calc_conditional(Cwt,Cdt,nd,nt,z,d,T,W,w,beta,alpha)\n",
    "                zstar = propose_new_z(pz,T)\n",
    "\n",
    "                Cdt[d,zstar] += 1\n",
    "                nd[d]        += 1\n",
    "                Cwt[w,zstar] += 1\n",
    "                nt[zstar]    += 1  \n",
    "                \n",
    "                topics[(d,i)] = zstar\n",
    "        phi, theta = calc_theta_phi(Cwt,Cdt,nd,nt,z,d,w,D,W,T,alpha,beta)\n",
    "        liks.append(compute_likelihood(Cwt,Cdt,T,D,W,alpha,beta))\n",
    "        \n",
    "    return liks, phi, theta\n",
    "          \n",
    "\n",
    "def calc_theta_phi(Cwt,Cdt,nd,nt,z,d,w,D,W,T,alpha,beta):\n",
    "    ph = np.zeros((W,T))                   \n",
    "    th = np.zeros((D,T))                     \n",
    "    for d in xrange(D):\n",
    "        for z in xrange(T):\n",
    "            th[d][z] = (Cdt[d,z] + alpha) / (nd[d] + T*alpha)\n",
    "    for z in xrange(T):\n",
    "        for w in xrange(W):\n",
    "            ph[w,z] = (Cwt[w,z] + beta) / (nt[z] + W*beta)\n",
    "    return ph, th    \n",
    "\n",
    "## goodness of fit: log-likelihood for overall model (find best number of topics)\n",
    "def log_multi_beta(alpha, K=None):\n",
    "    \"\"\"\n",
    "    Logarithm of the multinomial beta function.\n",
    "    \"\"\"\n",
    "    if K is None:\n",
    "        # alpha is assumed to be a vector\n",
    "        return np.sum(gammaln(alpha)) - gammaln(np.sum(alpha))\n",
    "    else:\n",
    "        # alpha is assumed to be a scalar\n",
    "        return K * gammaln(alpha) - gammaln(K*alpha)\n",
    "    \n",
    "def compute_likelihood(wt,dt,T,D,W,alpha,beta):\n",
    "    \"\"\"\n",
    "    Compute the likelihood that the model generated the data.\n",
    "    \"\"\"\n",
    "    lik = 0\n",
    "\n",
    "    for z in xrange(T):\n",
    "        lik += log_multi_beta(wt[:,z]+beta)\n",
    "        lik -= log_multi_beta(beta, W)\n",
    "\n",
    "    for d in xrange(D):\n",
    "        lik += log_multi_beta(dt[d,:]+alpha)\n",
    "        lik -= log_multi_beta(alpha, T)\n",
    "        \n",
    "    return lik"
   ]
  },
  {
   "cell_type": "code",
   "execution_count": 7,
   "metadata": {
    "collapsed": true
   },
   "outputs": [],
   "source": [
    "## LDA PARAMETERS\n",
    "\n",
    "Ts   = [100] # num topics\n",
    "n    = 80\n",
    "Nsim = 80              # num simulations\n",
    "D    = X.shape[0]      # num docs\n",
    "W    = X.shape[1]      # num unique words\n",
    "\n",
    "num_words_per_topic = 30 # how many words should we save to topwords csv?\n",
    "\n",
    "likelihoods = {}\n",
    "phis        = {}\n",
    "thetas      = {}\n",
    "\n",
    "\n",
    "## SETUP FOR ALL-MODELS-IN-ONE DF (not implemented)\n",
    "#start_indices = [0,2,6,16,86]\n",
    "#master_phi = np.zeros((W,len(colnames)))\n",
    "#master_theta = np.zeros((D,len(colnames)))"
   ]
  },
  {
   "cell_type": "code",
   "execution_count": 9,
   "metadata": {
    "collapsed": false
   },
   "outputs": [
    {
     "name": "stdout",
     "output_type": "stream",
     "text": [
      "T=100 START: 2016-02-23 19:53:02.772017\n",
      "T=100 END: 2016-02-23 20:10:25.063452\n",
      "Best likelihood: -1777453.63222\n"
     ]
    },
    {
     "name": "stderr",
     "output_type": "stream",
     "text": [
      "/Users/andrew/anaconda/lib/python2.7/site-packages/ipykernel/__main__.py:42: FutureWarning: sort(columns=....) is deprecated, use sort_values(by=.....)\n"
     ]
    }
   ],
   "source": [
    "for ix,T in enumerate(Ts):\n",
    "    colnames = []\n",
    "    for t in xrange(T):\n",
    "        colnames.append('t'+str(t))\n",
    "        \n",
    "    a    = 50/float(T)  # alpha\n",
    "    b    = 0.1          # beta\n",
    "    ## alpha and betas values recommended by Steyvers & Griffiths 2004\n",
    "    \n",
    "    ## timing each model computation\n",
    "    print 'T='+str(T)+' START: '+str(datetime.now())\n",
    "    \n",
    "    ## run lda\n",
    "    likelihoods[T], phis[T], thetas[T] = gibbs(Nsim,documents,D,W,T,a,b)\n",
    "    \n",
    "    ## timing\n",
    "    print 'T='+str(T)+' END: '+str(datetime.now())\n",
    "    ## print likelihood (necessary?)\n",
    "    print 'Best likelihood: {blik}'.format(blik=likelihoods[T][Nsim-1])\n",
    "    \n",
    "    ## ALL-MODELS-IN-ONE (not implemented)\n",
    "    #try:\n",
    "    #    master_phi[:,start_indices[ix]:start_indices[ix+1]] = phis[T]\n",
    "    #    master_theta[:,start_indices[ix]:start_indices[ix+1]] = thetas[T]\n",
    "    #except:\n",
    "    #    print 'master assignment failed.'\n",
    "        \n",
    "    ## make phi matrix (words x topics)\n",
    "    phi_df = pd.DataFrame(phis[T],columns=colnames,index=vectorizer.get_feature_names())\n",
    "    ## save to csv\n",
    "    phi_df.to_csv('lda-data/gibbs/phi/phi-df{t}.csv'.format(t=T),index=False)\n",
    "    \n",
    "    ## save phi and theta matrices from final iteration\n",
    "    np.savetxt('lda-data/gibbs/rawphi/phis-{t}.csv'.format(t=T),phis[T],delimiter=\",\")\n",
    "    np.savetxt('lda-data/gibbs/rawtheta/thetas-{t}.csv'.format(t=T),thetas[T],delimiter=\",\")\n",
    "    \n",
    "    ## initialize matrix to hold X words per topic\n",
    "    words_per_topic = np.empty((T,num_words_per_topic),dtype=object)\n",
    "\n",
    "    ## topic checker\n",
    "    for i,topic in enumerate(phi_df): \n",
    "        words_per_topic[i,:] = phi_df.sort(topic,ascending=False)[topic].head(num_words_per_topic).index\n",
    "\n",
    "    ## top words per topic\n",
    "    top_topic_words = pd.DataFrame(words_per_topic.T)\n",
    "    top_topic_words.columns = colnames\n",
    "\n",
    "    ## write top words per topic df to csv\n",
    "    top_topic_words.to_csv('lda-data/topwords/top-words-per-topic{t}.csv'.format(t=T),index=False)\n",
    "    \n",
    "    ## thetas = doc x topics matrix\n",
    "    ## create theta dataframe\n",
    "    theta_df = pd.DataFrame(thetas[T],columns=colnames)\n",
    "    ## write to csv\n",
    "    theta_df.to_csv('lda-data/gibbs/theta/theta-df{t}.csv'.format(t=T),index=False)"
   ]
  },
  {
   "cell_type": "code",
   "execution_count": 10,
   "metadata": {
    "collapsed": false
   },
   "outputs": [
    {
     "data": {
      "image/png": "[encoded data removed]",
      "text/plain": [
       "<matplotlib.figure.Figure at 0x1125a9ad0>"
      ]
     },
     "metadata": {},
     "output_type": "display_data"
    }
   ],
   "source": [
    "## likelihood improvement curve over 100 iterations for T=10\n",
    "plt.figure(figsize=(10,6))\n",
    "for T in Ts:\n",
    "    plt.plot(likelihoods[T], label=str(T)+' topics')\n",
    "_=plt.legend(loc=\"lower right\",labelspacing=.1)\n",
    "_=plt.title(\"Log likelihood over 80 epochs for different topic counts\")"
   ]
  },
  {
   "cell_type": "markdown",
   "metadata": {},
   "source": [
    "### Code below is same as code in actual LDA loop above, but we can run it without re-running LDA if tweaks are necessary to output files."
   ]
  },
  {
   "cell_type": "code",
   "execution_count": 10,
   "metadata": {
    "collapsed": true
   },
   "outputs": [],
   "source": [
    "phidf2 = pd.read_csv('lda-data/gibbs/phi/phi-df2.csv')"
   ]
  },
  {
   "cell_type": "code",
   "execution_count": 12,
   "metadata": {
    "collapsed": false
   },
   "outputs": [
    {
     "data": {
      "text/plain": [
       "(3040, 2)"
      ]
     },
     "execution_count": 12,
     "metadata": {},
     "output_type": "execute_result"
    }
   ],
   "source": [
    "phidf2.shape"
   ]
  },
  {
   "cell_type": "code",
   "execution_count": 100,
   "metadata": {
    "collapsed": false
   },
   "outputs": [],
   "source": [
    "num_words_per_topic = 30\n",
    "for T in Ts:\n",
    "    ## make word-topic df\n",
    "    colnames = ['t'+str(i) for i in xrange(T)]\n",
    "    \n",
    "    ## make phi matrix (words x topics)\n",
    "    phi_df = pd.DataFrame(phis[T],columns=colnames,index=vectorizer.get_feature_names())\n",
    "    ## save to csv\n",
    "    phi_df.to_csv('lda-data/gibbs/phi/phi-df{t}.csv'.format(t=T),index=False)\n",
    "    \n",
    "    ## save phi and theta matrices from final iteration\n",
    "    np.savetxt('lda-data/gibbs/rawphi/phis-{t}.csv'.format(t=T),phis[T],delimiter=\",\")\n",
    "    np.savetxt('lda-data/gibbs/rawtheta/thetas-{t}.csv'.format(t=T),thetas[T],delimiter=\",\")\n",
    "    \n",
    "    ## initialize matrix to hold X words per topic\n",
    "    words_per_topic = np.empty((T,num_words_per_topic),dtype=object)\n",
    "\n",
    "    ## topic checker\n",
    "    for i,topic in enumerate(phi_df): \n",
    "        words_per_topic[i,:] = phi_df.sort(topic,ascending=False)[topic].head(num_words_per_topic).index\n",
    "\n",
    "    ## top words per topic\n",
    "    top_topic_words = pd.DataFrame(words_per_topic.T)\n",
    "    top_topic_words.columns = colnames\n",
    "\n",
    "    ## write top words per topic df to csv\n",
    "    top_topic_words.to_csv('lda-data/topwords/top-words-per-topic{t}.csv'.format(t=T),index=False)\n",
    "    \n",
    "    ## thetas = doc x topics matrix\n",
    "    ## create theta dataframe\n",
    "    theta_df = pd.DataFrame(thetas[T],columns=colnames)\n",
    "    ## write to csv\n",
    "    theta_df.to_csv('lda-data/gibbs/theta/theta-df{t}.csv'.format(t=T),index=False)\n",
    "    "
   ]
  }
 ],
 "metadata": {
  "kernelspec": {
   "display_name": "Python 2",
   "language": "python",
   "name": "python2"
  },
  "language_info": {
   "codemirror_mode": {
    "name": "ipython",
    "version": 2
   },
   "file_extension": ".py",
   "mimetype": "text/x-python",
   "name": "python",
   "nbconvert_exporter": "python",
   "pygments_lexer": "ipython2",
   "version": "2.7.11"
  }
 },
 "nbformat": 4,
 "nbformat_minor": 0
}
